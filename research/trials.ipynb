{
 "cells": [
  {
   "cell_type": "code",
   "execution_count": 3,
   "metadata": {},
   "outputs": [
    {
     "ename": "ValueError",
     "evalue": "could not convert string to float: '1:11977.037100'",
     "output_type": "error",
     "traceback": [
      "\u001b[0;31m---------------------------------------------------------------------------\u001b[0m",
      "\u001b[0;31mValueError\u001b[0m                                Traceback (most recent call last)",
      "Cell \u001b[0;32mIn[3], line 23\u001b[0m\n\u001b[1;32m     20\u001b[0m \u001b[38;5;28;01mfor\u001b[39;00m file \u001b[38;5;129;01min\u001b[39;00m file_paths:\n\u001b[1;32m     21\u001b[0m     \u001b[38;5;28;01mwith\u001b[39;00m \u001b[38;5;28mopen\u001b[39m(file, \u001b[38;5;124m'\u001b[39m\u001b[38;5;124mr\u001b[39m\u001b[38;5;124m'\u001b[39m) \u001b[38;5;28;01mas\u001b[39;00m f:\n\u001b[1;32m     22\u001b[0m         \u001b[38;5;66;03m# Process each line in the file\u001b[39;00m\n\u001b[0;32m---> 23\u001b[0m         data \u001b[38;5;241m=\u001b[39m [process_line(line) \u001b[38;5;28;01mfor\u001b[39;00m line \u001b[38;5;129;01min\u001b[39;00m f]\n\u001b[1;32m     25\u001b[0m     \u001b[38;5;66;03m# Convert the processed data into a DataFrame\u001b[39;00m\n\u001b[1;32m     26\u001b[0m     df \u001b[38;5;241m=\u001b[39m pd\u001b[38;5;241m.\u001b[39mDataFrame(data)\n",
      "Cell \u001b[0;32mIn[3], line 23\u001b[0m, in \u001b[0;36m<listcomp>\u001b[0;34m(.0)\u001b[0m\n\u001b[1;32m     20\u001b[0m \u001b[38;5;28;01mfor\u001b[39;00m file \u001b[38;5;129;01min\u001b[39;00m file_paths:\n\u001b[1;32m     21\u001b[0m     \u001b[38;5;28;01mwith\u001b[39;00m \u001b[38;5;28mopen\u001b[39m(file, \u001b[38;5;124m'\u001b[39m\u001b[38;5;124mr\u001b[39m\u001b[38;5;124m'\u001b[39m) \u001b[38;5;28;01mas\u001b[39;00m f:\n\u001b[1;32m     22\u001b[0m         \u001b[38;5;66;03m# Process each line in the file\u001b[39;00m\n\u001b[0;32m---> 23\u001b[0m         data \u001b[38;5;241m=\u001b[39m [\u001b[43mprocess_line\u001b[49m\u001b[43m(\u001b[49m\u001b[43mline\u001b[49m\u001b[43m)\u001b[49m \u001b[38;5;28;01mfor\u001b[39;00m line \u001b[38;5;129;01min\u001b[39;00m f]\n\u001b[1;32m     25\u001b[0m     \u001b[38;5;66;03m# Convert the processed data into a DataFrame\u001b[39;00m\n\u001b[1;32m     26\u001b[0m     df \u001b[38;5;241m=\u001b[39m pd\u001b[38;5;241m.\u001b[39mDataFrame(data)\n",
      "Cell \u001b[0;32mIn[3], line 15\u001b[0m, in \u001b[0;36mprocess_line\u001b[0;34m(line)\u001b[0m\n\u001b[1;32m     13\u001b[0m \u001b[38;5;28;01mdef\u001b[39;00m \u001b[38;5;21mprocess_line\u001b[39m(line):\n\u001b[1;32m     14\u001b[0m     \u001b[38;5;66;03m# Split the line by spaces or tabs and convert each part to a float\u001b[39;00m\n\u001b[0;32m---> 15\u001b[0m     values \u001b[38;5;241m=\u001b[39m [\u001b[38;5;28mfloat\u001b[39m(value) \u001b[38;5;28;01mfor\u001b[39;00m value \u001b[38;5;129;01min\u001b[39;00m line\u001b[38;5;241m.\u001b[39mstrip()\u001b[38;5;241m.\u001b[39msplit()]\n\u001b[1;32m     16\u001b[0m     \u001b[38;5;28;01mreturn\u001b[39;00m values\n",
      "Cell \u001b[0;32mIn[3], line 15\u001b[0m, in \u001b[0;36m<listcomp>\u001b[0;34m(.0)\u001b[0m\n\u001b[1;32m     13\u001b[0m \u001b[38;5;28;01mdef\u001b[39;00m \u001b[38;5;21mprocess_line\u001b[39m(line):\n\u001b[1;32m     14\u001b[0m     \u001b[38;5;66;03m# Split the line by spaces or tabs and convert each part to a float\u001b[39;00m\n\u001b[0;32m---> 15\u001b[0m     values \u001b[38;5;241m=\u001b[39m [\u001b[38;5;28;43mfloat\u001b[39;49m\u001b[43m(\u001b[49m\u001b[43mvalue\u001b[49m\u001b[43m)\u001b[49m \u001b[38;5;28;01mfor\u001b[39;00m value \u001b[38;5;129;01min\u001b[39;00m line\u001b[38;5;241m.\u001b[39mstrip()\u001b[38;5;241m.\u001b[39msplit()]\n\u001b[1;32m     16\u001b[0m     \u001b[38;5;28;01mreturn\u001b[39;00m values\n",
      "\u001b[0;31mValueError\u001b[0m: could not convert string to float: '1:11977.037100'"
     ]
    }
   ],
   "source": [
    "import pandas as pd\n",
    "import glob\n",
    "\n",
    "# Define the path to the dataset\n",
    "data_path = '/home/moraa/Documents/Machine-learning/Gas_Sensor/artifacts/data_ingestion/Dataset/'\n",
    "\n",
    "# Use glob to find all .dat files in the specified directory\n",
    "file_paths = glob.glob(data_path + 'batch*.dat')\n",
    "\n",
    "# Initialize an empty list to store DataFrames\n",
    "dataframes = []\n",
    "\n",
    "def process_line(line):\n",
    "    # Split the line by spaces or tabs and convert each part to a float\n",
    "    values = [float(value) for value in line.strip().split()]\n",
    "    return values\n",
    "\n",
    "\n",
    "# Loop through each file path, read the file, process it, and append the DataFrame to the list\n",
    "for file in file_paths:\n",
    "    with open(file, 'r') as f:\n",
    "        # Process each line in the file\n",
    "        data = [process_line(line) for line in f]\n",
    "    \n",
    "    # Convert the processed data into a DataFrame\n",
    "    df = pd.DataFrame(data)\n",
    "    \n",
    "    # Append to the list of DataFrames\n",
    "    dataframes.append(df)\n",
    "\n",
    "# Concatenate all DataFrames into a single DataFrame\n",
    "data = pd.concat(dataframes, ignore_index=True)\n",
    "\n",
    "# Display the first few rows of the processed data\n",
    "print(data.head(5))\n"
   ]
  },
  {
   "cell_type": "code",
   "execution_count": null,
   "metadata": {},
   "outputs": [],
   "source": []
  }
 ],
 "metadata": {
  "kernelspec": {
   "display_name": "venv",
   "language": "python",
   "name": "python3"
  },
  "language_info": {
   "codemirror_mode": {
    "name": "ipython",
    "version": 3
   },
   "file_extension": ".py",
   "mimetype": "text/x-python",
   "name": "python",
   "nbconvert_exporter": "python",
   "pygments_lexer": "ipython3",
   "version": "3.10.15"
  }
 },
 "nbformat": 4,
 "nbformat_minor": 2
}
