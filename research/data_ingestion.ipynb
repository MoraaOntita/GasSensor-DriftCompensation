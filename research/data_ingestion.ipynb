{
 "cells": [
  {
   "cell_type": "code",
   "execution_count": 3,
   "metadata": {},
   "outputs": [],
   "source": [
    "import os\n",
    "import gdown"
   ]
  },
  {
   "cell_type": "code",
   "execution_count": 4,
   "metadata": {},
   "outputs": [
    {
     "name": "stderr",
     "output_type": "stream",
     "text": [
      "Downloading...\n",
      "From: https://drive.google.com/uc?id=1Xfden1wxDtEeJ8b7qIAgwh9sxdSIkqT0\n",
      "To: /home/moraa-ontita/Documents/Machine-learning/Gas_Sensor/artifacts/data_ingestion/gas_sensor_array_drift_dataset.zip\n",
      "100%|██████████| 9.99M/9.99M [00:11<00:00, 853kB/s] \n"
     ]
    },
    {
     "name": "stdout",
     "output_type": "stream",
     "text": [
      "Dataset downloaded and saved to /home/moraa-ontita/Documents/Machine-learning/Gas_Sensor/artifacts/data_ingestion/gas_sensor_array_drift_dataset.zip\n",
      "Dataset extracted to /home/moraa-ontita/Documents/Machine-learning/Gas_Sensor/artifacts/data_ingestion\n"
     ]
    }
   ],
   "source": [
    "import os\n",
    "import gdown\n",
    "import zipfile\n",
    "\n",
    "# Helper function to get project root dynamically (e.g., folder named \"Gas_Sensor\")\n",
    "def find_project_root(project_name=\"Gas_Sensor\"):\n",
    "    current_dir = os.path.abspath(os.getcwd())\n",
    "    while True:\n",
    "        if os.path.basename(current_dir) == project_name:\n",
    "            return current_dir\n",
    "        parent = os.path.dirname(current_dir)\n",
    "        if parent == current_dir:\n",
    "            raise FileNotFoundError(f\"Project root '{project_name}' not found in path hierarchy.\")\n",
    "        current_dir = parent\n",
    "\n",
    "# Get the root directory dynamically\n",
    "root_dir = find_project_root()\n",
    "\n",
    "# Define destination relative to root\n",
    "destination_folder = os.path.join(root_dir, \"artifacts\", \"data_ingestion\")\n",
    "\n",
    "# Ensure the directory exists\n",
    "os.makedirs(destination_folder, exist_ok=True)\n",
    "\n",
    "# Google Drive file ID or the sharable link\n",
    "file_url = \"https://drive.google.com/uc?id=1Xfden1wxDtEeJ8b7qIAgwh9sxdSIkqT0\"\n",
    "\n",
    "# Download the dataset\n",
    "output_path = os.path.join(destination_folder, \"gas_sensor_array_drift_dataset.zip\")\n",
    "gdown.download(file_url, output_path, quiet=False)\n",
    "\n",
    "print(f\"Dataset downloaded and saved to {output_path}\")\n",
    "\n",
    "# Extract the zip file\n",
    "with zipfile.ZipFile(output_path, 'r') as zip_ref:\n",
    "    zip_ref.extractall(destination_folder)\n",
    "\n",
    "print(f\"Dataset extracted to {destination_folder}\")\n"
   ]
  },
  {
   "cell_type": "code",
   "execution_count": null,
   "metadata": {},
   "outputs": [],
   "source": []
  }
 ],
 "metadata": {
  "kernelspec": {
   "display_name": ".venv",
   "language": "python",
   "name": "python3"
  },
  "language_info": {
   "codemirror_mode": {
    "name": "ipython",
    "version": 3
   },
   "file_extension": ".py",
   "mimetype": "text/x-python",
   "name": "python",
   "nbconvert_exporter": "python",
   "pygments_lexer": "ipython3",
   "version": "3.12.3"
  }
 },
 "nbformat": 4,
 "nbformat_minor": 2
}
