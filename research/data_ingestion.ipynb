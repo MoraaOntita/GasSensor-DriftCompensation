{
 "cells": [
  {
   "cell_type": "code",
   "execution_count": 7,
   "metadata": {},
   "outputs": [],
   "source": [
    "import os\n",
    "import gdown"
   ]
  },
  {
   "cell_type": "code",
   "execution_count": 9,
   "metadata": {},
   "outputs": [
    {
     "name": "stderr",
     "output_type": "stream",
     "text": [
      "Downloading...\n",
      "From: https://drive.google.com/uc?id=1Xfden1wxDtEeJ8b7qIAgwh9sxdSIkqT0\n",
      "To: /home/moraa/Documents/Machine-learning/Gas_Sensor/artifacts/data_ingestion/gas_sensor_array_drift_dataset.zip\n",
      "100%|██████████| 9.99M/9.99M [04:54<00:00, 33.9kB/s]\n"
     ]
    },
    {
     "name": "stdout",
     "output_type": "stream",
     "text": [
      "Dataset downloaded and saved to artifacts/data_ingestion/gas_sensor_array_drift_dataset.zip\n",
      "Dataset extracted to artifacts/data_ingestion\n"
     ]
    }
   ],
   "source": [
    "import os\n",
    "import gdown\n",
    "import zipfile\n",
    "\n",
    "# Google Drive file ID or the sharable link\n",
    "file_url = \"https://drive.google.com/uc?id=1Xfden1wxDtEeJ8b7qIAgwh9sxdSIkqT0\"\n",
    "\n",
    "# Destination folder path\n",
    "destination_folder = \"artifacts/data_ingestion\"\n",
    "\n",
    "# Ensure the directory exists\n",
    "os.makedirs(destination_folder, exist_ok=True)\n",
    "\n",
    "# Download the dataset\n",
    "output_path = os.path.join(destination_folder, \"gas_sensor_array_drift_dataset.zip\")\n",
    "gdown.download(file_url, output_path, quiet=False)\n",
    "\n",
    "print(f\"Dataset downloaded and saved to {output_path}\")\n",
    "\n",
    "# Extract the zip file\n",
    "with zipfile.ZipFile(output_path, 'r') as zip_ref:\n",
    "    zip_ref.extractall(destination_folder)\n",
    "\n",
    "print(f\"Dataset extracted to {destination_folder}\")\n"
   ]
  },
  {
   "cell_type": "code",
   "execution_count": null,
   "metadata": {},
   "outputs": [],
   "source": []
  }
 ],
 "metadata": {
  "kernelspec": {
   "display_name": "venv",
   "language": "python",
   "name": "python3"
  },
  "language_info": {
   "codemirror_mode": {
    "name": "ipython",
    "version": 3
   },
   "file_extension": ".py",
   "mimetype": "text/x-python",
   "name": "python",
   "nbconvert_exporter": "python",
   "pygments_lexer": "ipython3",
   "version": "3.10.15"
  }
 },
 "nbformat": 4,
 "nbformat_minor": 2
}
