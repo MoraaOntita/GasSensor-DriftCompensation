{
 "cells": [
  {
   "cell_type": "code",
   "execution_count": 1,
   "metadata": {},
   "outputs": [
    {
     "name": "stderr",
     "output_type": "stream",
     "text": [
      "2025-06-16 17:12:07.415936: I external/local_xla/xla/tsl/cuda/cudart_stub.cc:32] Could not find cuda drivers on your machine, GPU will not be used.\n",
      "2025-06-16 17:12:07.420900: I external/local_xla/xla/tsl/cuda/cudart_stub.cc:32] Could not find cuda drivers on your machine, GPU will not be used.\n",
      "2025-06-16 17:12:07.433716: E external/local_xla/xla/stream_executor/cuda/cuda_fft.cc:467] Unable to register cuFFT factory: Attempting to register factory for plugin cuFFT when one has already been registered\n",
      "WARNING: All log messages before absl::InitializeLog() is called are written to STDERR\n",
      "E0000 00:00:1750083127.453624    6558 cuda_dnn.cc:8579] Unable to register cuDNN factory: Attempting to register factory for plugin cuDNN when one has already been registered\n",
      "E0000 00:00:1750083127.459450    6558 cuda_blas.cc:1407] Unable to register cuBLAS factory: Attempting to register factory for plugin cuBLAS when one has already been registered\n",
      "W0000 00:00:1750083127.475490    6558 computation_placer.cc:177] computation placer already registered. Please check linkage and avoid linking the same target more than once.\n",
      "W0000 00:00:1750083127.475510    6558 computation_placer.cc:177] computation placer already registered. Please check linkage and avoid linking the same target more than once.\n",
      "W0000 00:00:1750083127.475512    6558 computation_placer.cc:177] computation placer already registered. Please check linkage and avoid linking the same target more than once.\n",
      "W0000 00:00:1750083127.475514    6558 computation_placer.cc:177] computation placer already registered. Please check linkage and avoid linking the same target more than once.\n",
      "2025-06-16 17:12:07.480191: I tensorflow/core/platform/cpu_feature_guard.cc:210] This TensorFlow binary is optimized to use available CPU instructions in performance-critical operations.\n",
      "To enable the following instructions: AVX2 FMA, in other operations, rebuild TensorFlow with the appropriate compiler flags.\n"
     ]
    }
   ],
   "source": [
    "import mlflow\n",
    "import mlflow.keras\n",
    "import os\n",
    "from sklearn.metrics import accuracy_score, confusion_matrix, classification_report"
   ]
  },
  {
   "cell_type": "code",
   "execution_count": 2,
   "metadata": {},
   "outputs": [
    {
     "data": {
      "text/plain": [
       "<ActiveRun: >"
      ]
     },
     "execution_count": 2,
     "metadata": {},
     "output_type": "execute_result"
    }
   ],
   "source": [
    "# Load MLflow credentials from the environment variables\n",
    "MLFLOW_TRACKING_URI = os.getenv(\"MLFLOW_TRACKING_URI\", \"https://dagshub.com/MoraaOntita/GasSensor-DriftCompensation.mlflow\")\n",
    "MLFLOW_TRACKING_USERNAME = os.getenv(\"MLFLOW_TRACKING_USERNAME\", \"MoraaOntita\")\n",
    "MLFLOW_TRACKING_PASSWORD = os.getenv(\"MLFLOW_TRACKING_PASSWORD\", \"Musy1844\")\n",
    "\n",
    "# Configure MLflow to use the DagsHub endpoint\n",
    "mlflow.set_tracking_uri(MLFLOW_TRACKING_URI)\n",
    "\n",
    "# Set up authentication (DagsHub uses basic auth for MLflow)\n",
    "os.environ[\"MLFLOW_TRACKING_USERNAME\"] = MLFLOW_TRACKING_USERNAME\n",
    "os.environ[\"MLFLOW_TRACKING_PASSWORD\"] = MLFLOW_TRACKING_PASSWORD\n",
    "\n",
    "# Start a new MLflow run\n",
    "mlflow.start_run(run_name=\"GasSensor_Model_Evaluation\")\n"
   ]
  },
  {
   "cell_type": "code",
   "execution_count": 3,
   "metadata": {},
   "outputs": [],
   "source": [
    "def evaluate_model(model, X_test, y_test):\n",
    "    \"\"\"\n",
    "    Evaluate the model on the test data and log metrics to MLflow.\n",
    "    \"\"\"\n",
    "    try:\n",
    "        # Make predictions\n",
    "        y_pred = model.predict(X_test)\n",
    "        y_pred_classes = y_pred.argmax(axis=1)\n",
    "        y_true_classes = y_test.argmax(axis=1)\n",
    "\n",
    "        # Calculate accuracy\n",
    "        accuracy = accuracy_score(y_true_classes, y_pred_classes)\n",
    "        conf_matrix = confusion_matrix(y_true_classes, y_pred_classes)\n",
    "        report = classification_report(y_true_classes, y_pred_classes)\n",
    "\n",
    "        # Log metrics to MLflow\n",
    "        mlflow.log_metric(\"accuracy\", accuracy)\n",
    "\n",
    "        # Log confusion matrix (you can log the image if you prefer)\n",
    "        mlflow.log_text(str(conf_matrix), \"confusion_matrix.txt\")\n",
    "        mlflow.log_text(report, \"classification_report.txt\")\n",
    "\n",
    "        # Log the model to MLflow\n",
    "        mlflow.keras.log_model(model, \"model\")\n",
    "\n",
    "        # End the MLflow run\n",
    "        mlflow.end_run()\n",
    "\n",
    "        print(f\"Model evaluation completed. Accuracy: {accuracy}\")\n",
    "\n",
    "    except Exception as e:\n",
    "        mlflow.end_run(status='FAILED')\n",
    "        print(f\"Error in model evaluation: {e}\")\n",
    "        raise\n"
   ]
  }
 ],
 "metadata": {
  "kernelspec": {
   "display_name": ".venv",
   "language": "python",
   "name": "python3"
  },
  "language_info": {
   "codemirror_mode": {
    "name": "ipython",
    "version": 3
   },
   "file_extension": ".py",
   "mimetype": "text/x-python",
   "name": "python",
   "nbconvert_exporter": "python",
   "pygments_lexer": "ipython3",
   "version": "3.12.3"
  }
 },
 "nbformat": 4,
 "nbformat_minor": 2
}
